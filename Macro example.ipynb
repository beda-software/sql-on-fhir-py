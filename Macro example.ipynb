{
 "cells": [
  {
   "cell_type": "code",
   "execution_count": 1,
   "id": "aaaa6b1f",
   "metadata": {},
   "outputs": [],
   "source": [
    "from macro import convert\n",
    "sql = \"\"\"\n",
    "select\n",
    "({$ .name[0].family }) as family,\n",
    "({age .birthDate}) as age,\n",
    "({$ .gender}) as gender\n",
    "from patient\n",
    "limit 10\n",
    "\"\"\""
   ]
  },
  {
   "cell_type": "code",
   "execution_count": 2,
   "id": "4d8278f6",
   "metadata": {},
   "outputs": [
    {
     "name": "stdout",
     "output_type": "stream",
     "text": [
      "\n",
      "select\n",
      "name[1].family as family,\n",
      "datediff('year', birthDate::date, current_date ) as age,\n",
      "gender as gender\n",
      "from patient\n",
      "limit 10\n",
      "\n"
     ]
    }
   ],
   "source": [
    "print(convert(sql, 'duckdb'))"
   ]
  },
  {
   "cell_type": "code",
   "execution_count": 3,
   "id": "0d221a5b",
   "metadata": {},
   "outputs": [
    {
     "name": "stdout",
     "output_type": "stream",
     "text": [
      "\n",
      "select\n",
      "resource#>>'{name,0,family}' as family,\n",
      "date_part('year', age(current_timestamp,(resource#>>'{birthDate}')::timestamp)) as age,\n",
      "resource#>>'{gender}' as gender\n",
      "from patient\n",
      "limit 10\n",
      "\n"
     ]
    }
   ],
   "source": [
    "print(convert(sql, 'postgres'))"
   ]
  }
 ],
 "metadata": {
  "kernelspec": {
   "display_name": "Python 3 (ipykernel)",
   "language": "python",
   "name": "python3"
  },
  "language_info": {
   "codemirror_mode": {
    "name": "ipython",
    "version": 3
   },
   "file_extension": ".py",
   "mimetype": "text/x-python",
   "name": "python",
   "nbconvert_exporter": "python",
   "pygments_lexer": "ipython3",
   "version": "3.11.2"
  }
 },
 "nbformat": 4,
 "nbformat_minor": 5
}
