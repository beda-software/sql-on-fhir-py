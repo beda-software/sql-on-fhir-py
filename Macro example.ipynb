{
 "cells": [
  {
   "cell_type": "code",
   "execution_count": 1,
   "id": "b33fa98e",
   "metadata": {},
   "outputs": [],
   "source": [
    "from macro import convert"
   ]
  },
  {
   "cell_type": "code",
   "execution_count": 2,
   "id": "578adc21",
   "metadata": {},
   "outputs": [
    {
     "name": "stdout",
     "output_type": "stream",
     "text": [
      "\n",
      "select\n",
      "name[1].family as family,\n",
      "datediff('year', birthDate::date, current_date ) as age,\n",
      "gender as gender\n",
      "from patient\n",
      "limit 10\n",
      "\n"
     ]
    }
   ],
   "source": [
    "print(convert(\n",
    "\"\"\"\n",
    "select\n",
    "({$ .name[0].family }) as family,\n",
    "({age .birthDate}) as age,\n",
    "({$ .gender}) as gender\n",
    "from patient\n",
    "limit 10\n",
    "\"\"\", 'duckdb'))"
   ]
  },
  {
   "cell_type": "code",
   "execution_count": 3,
   "id": "2b277fa6",
   "metadata": {},
   "outputs": [
    {
     "name": "stdout",
     "output_type": "stream",
     "text": [
      "\n",
      "select\n",
      "resource#>>'{name,0,family}' as family,\n",
      "date_part('year', age(current_timestamp,(resource#>>'{birthDate}')::timestamp)) as age,\n",
      "resource#>>'{gender}' as gender\n",
      "from patient\n",
      "limit 10\n",
      "\n"
     ]
    }
   ],
   "source": [
    "print(convert(\n",
    "\"\"\"\n",
    "select\n",
    "({$ .name[0].family }) as family,\n",
    "({age .birthDate}) as age,\n",
    "({$ .gender}) as gender\n",
    "from patient\n",
    "limit 10\n",
    "\"\"\", 'postgres'))"
   ]
  },
  {
   "cell_type": "code",
   "execution_count": 4,
   "id": "4f66d2ff",
   "metadata": {},
   "outputs": [],
   "source": [
    "sql=\"\"\"\n",
    "select ({$ p.id}) as pid , ({$ e.id}) as eid\n",
    "from patient p, encounter e\n",
    "where ({$ p.id}) = (({$ e.subject.sof_id}))::uuid\n",
    "limit 5\n",
    "\"\"\""
   ]
  }
 ],
 "metadata": {
  "kernelspec": {
   "display_name": "Python 3 (ipykernel)",
   "language": "python",
   "name": "python3"
  },
  "language_info": {
   "codemirror_mode": {
    "name": "ipython",
    "version": 3
   },
   "file_extension": ".py",
   "mimetype": "text/x-python",
   "name": "python",
   "nbconvert_exporter": "python",
   "pygments_lexer": "ipython3",
   "version": "3.11.2"
  }
 },
 "nbformat": 4,
 "nbformat_minor": 5
}
