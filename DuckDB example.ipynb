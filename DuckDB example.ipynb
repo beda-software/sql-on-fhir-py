{
 "cells": [
  {
   "cell_type": "code",
   "execution_count": 1,
   "id": "4ada804b",
   "metadata": {},
   "outputs": [],
   "source": [
    "from sqlalchemy import create_engine\n",
    "eng = create_engine(\"duckdb:///:memory:\", json_serializer=lambda obj: obj)\n",
    "eng.dialect._json_deserializer = lambda obj:obj\n",
    "eng.dialect._json_serializer = lambda obj:obj"
   ]
  },
  {
   "cell_type": "code",
   "execution_count": 2,
   "id": "f4ec3df0",
   "metadata": {},
   "outputs": [],
   "source": [
    "from sqlalchemy import Column, Integer, Sequence, String, create_engine, JSON, ARRAY\n",
    "from sqlalchemy.orm import declarative_base\n",
    "from sqlalchemy.orm.session import Session\n"
   ]
  },
  {
   "cell_type": "code",
   "execution_count": 13,
   "id": "b167c6d6",
   "metadata": {},
   "outputs": [
    {
     "ename": "AttributeError",
     "evalue": "Neither 'BinaryExpression' object nor 'Comparator' object has an attribute 'family'",
     "output_type": "error",
     "traceback": [
      "\u001b[0;31m---------------------------------------------------------------------------\u001b[0m",
      "\u001b[0;31mAttributeError\u001b[0m                            Traceback (most recent call last)",
      "File \u001b[0;32m~/.local/share/virtualenvs/sql-on-fhir-py-yYH1zTIG/lib/python3.11/site-packages/sqlalchemy/sql/elements.py:1457\u001b[0m, in \u001b[0;36mColumnElement.__getattr__\u001b[0;34m(self, key)\u001b[0m\n\u001b[1;32m   1456\u001b[0m \u001b[38;5;28;01mtry\u001b[39;00m:\n\u001b[0;32m-> 1457\u001b[0m     \u001b[38;5;28;01mreturn\u001b[39;00m \u001b[38;5;28mgetattr\u001b[39m(\u001b[38;5;28mself\u001b[39m\u001b[38;5;241m.\u001b[39mcomparator, key)\n\u001b[1;32m   1458\u001b[0m \u001b[38;5;28;01mexcept\u001b[39;00m \u001b[38;5;167;01mAttributeError\u001b[39;00m \u001b[38;5;28;01mas\u001b[39;00m err:\n",
      "\u001b[0;31mAttributeError\u001b[0m: 'Comparator' object has no attribute 'family'",
      "\nThe above exception was the direct cause of the following exception:\n",
      "\u001b[0;31mAttributeError\u001b[0m                            Traceback (most recent call last)",
      "Cell \u001b[0;32mIn[13], line 27\u001b[0m\n\u001b[1;32m     24\u001b[0m     birthDate \u001b[38;5;241m=\u001b[39m Column(String) \n\u001b[1;32m     25\u001b[0m     gender \u001b[38;5;241m=\u001b[39m Column(String) \n\u001b[0;32m---> 27\u001b[0m \u001b[38;5;28mprint\u001b[39m(select(\u001b[43mPatient\u001b[49m\u001b[38;5;241;43m.\u001b[39;49m\u001b[43mname\u001b[49m\u001b[43m[\u001b[49m\u001b[38;5;241;43m0\u001b[39;49m\u001b[43m]\u001b[49m\u001b[38;5;241;43m.\u001b[39;49m\u001b[43mfamily\u001b[49m))\n",
      "File \u001b[0;32m~/.local/share/virtualenvs/sql-on-fhir-py-yYH1zTIG/lib/python3.11/site-packages/sqlalchemy/sql/elements.py:1459\u001b[0m, in \u001b[0;36mColumnElement.__getattr__\u001b[0;34m(self, key)\u001b[0m\n\u001b[1;32m   1457\u001b[0m     \u001b[38;5;28;01mreturn\u001b[39;00m \u001b[38;5;28mgetattr\u001b[39m(\u001b[38;5;28mself\u001b[39m\u001b[38;5;241m.\u001b[39mcomparator, key)\n\u001b[1;32m   1458\u001b[0m \u001b[38;5;28;01mexcept\u001b[39;00m \u001b[38;5;167;01mAttributeError\u001b[39;00m \u001b[38;5;28;01mas\u001b[39;00m err:\n\u001b[0;32m-> 1459\u001b[0m     \u001b[38;5;28;01mraise\u001b[39;00m \u001b[38;5;167;01mAttributeError\u001b[39;00m(\n\u001b[1;32m   1460\u001b[0m         \u001b[38;5;124m\"\u001b[39m\u001b[38;5;124mNeither \u001b[39m\u001b[38;5;132;01m%r\u001b[39;00m\u001b[38;5;124m object nor \u001b[39m\u001b[38;5;132;01m%r\u001b[39;00m\u001b[38;5;124m object has an attribute \u001b[39m\u001b[38;5;132;01m%r\u001b[39;00m\u001b[38;5;124m\"\u001b[39m\n\u001b[1;32m   1461\u001b[0m         \u001b[38;5;241m%\u001b[39m (\n\u001b[1;32m   1462\u001b[0m             \u001b[38;5;28mtype\u001b[39m(\u001b[38;5;28mself\u001b[39m)\u001b[38;5;241m.\u001b[39m\u001b[38;5;18m__name__\u001b[39m,\n\u001b[1;32m   1463\u001b[0m             \u001b[38;5;28mtype\u001b[39m(\u001b[38;5;28mself\u001b[39m\u001b[38;5;241m.\u001b[39mcomparator)\u001b[38;5;241m.\u001b[39m\u001b[38;5;18m__name__\u001b[39m,\n\u001b[1;32m   1464\u001b[0m             key,\n\u001b[1;32m   1465\u001b[0m         )\n\u001b[1;32m   1466\u001b[0m     ) \u001b[38;5;28;01mfrom\u001b[39;00m \u001b[38;5;21;01merr\u001b[39;00m\n",
      "\u001b[0;31mAttributeError\u001b[0m: Neither 'BinaryExpression' object nor 'Comparator' object has an attribute 'family'"
     ]
    }
   ],
   "source": [
    "Base = declarative_base()\n",
    "\n",
    "import sqlalchemy.types as types\n",
    "\n",
    "class DuckJSON(types.TypeDecorator):\n",
    "    impl = JSON\n",
    "    \n",
    "    class Comparator(JSON.Comparator):\n",
    "        def __getattr__(self, attr):\n",
    "            try:\n",
    "                return super(DuckJSON.Comparator, self).__getattr__(attr)\n",
    "            except AttributeError:\n",
    "                return self[attr]\n",
    "    \n",
    "    \n",
    "    comparator_factory = Comparator\n",
    "    \n",
    "\n",
    "class Patient(Base):\n",
    "    __tablename__ = \"patient\"\n",
    "    \n",
    "    id = Column(String, primary_key=True) \n",
    "    name = Column(ARRAY(JSON))\n",
    "    birthDate = Column(String) \n",
    "    gender = Column(String) \n",
    "\n",
    "print(select(Patient.name[0].family))"
   ]
  },
  {
   "cell_type": "code",
   "execution_count": 4,
   "id": "3295391f",
   "metadata": {},
   "outputs": [],
   "source": [
    "from sqlalchemy.sql import text\n",
    "with eng.connect() as con:\n",
    "    con.execute(text(\"\"\"CREATE TABLE patient AS SELECT * FROM  read_parquet('Patient.parquet/part-00000-d58f2ef8-cc43-48e1-9723-05966f96ca3f-c000.snappy.parquet')\"\"\"))\n",
    "    con.commit()"
   ]
  },
  {
   "cell_type": "code",
   "execution_count": 5,
   "id": "17689d2f",
   "metadata": {},
   "outputs": [
    {
     "name": "stdout",
     "output_type": "stream",
     "text": [
      "('Muller251', 34, 'male')\n",
      "('Champlin946', 15, 'male')\n",
      "('Stehr398', 52, 'female')\n",
      "('Ebert178', 63, 'female')\n",
      "('Carter549', 32, 'female')\n",
      "('Kuvalis369', 45, 'male')\n",
      "('Jacobs452', 60, 'female')\n",
      "('Kihn564', 57, 'female')\n",
      "('Dickens475', 12, 'female')\n",
      "('Abshire638', 38, 'male')\n"
     ]
    }
   ],
   "source": [
    "with eng.connect() as con:\n",
    "    for line in con.execute(text(\"\"\"\n",
    "select\n",
    " name[1]['family'] as family,\n",
    " datediff('year', birthDate::date, current_date ) as age,\n",
    " gender as gender\n",
    "from patient\n",
    "limit 10\n",
    "\"\"\")):\n",
    "        print(line)"
   ]
  },
  {
   "cell_type": "code",
   "execution_count": 15,
   "id": "3136d809",
   "metadata": {},
   "outputs": [
    {
     "ename": "ProgrammingError",
     "evalue": "(duckdb.InvalidInputException) Invalid Input Error: Malformed JSON at byte 1 of input: unexpected character.  Input: {'family': Muller251, 'given': [Rueben647, Antw...\n(Background on this error at: https://sqlalche.me/e/20/f405)",
     "output_type": "error",
     "traceback": [
      "\u001b[0;31m---------------------------------------------------------------------------\u001b[0m",
      "\u001b[0;31mInvalidInputException\u001b[0m                     Traceback (most recent call last)",
      "File \u001b[0;32m~/.local/share/virtualenvs/sql-on-fhir-py-yYH1zTIG/lib/python3.11/site-packages/sqlalchemy/engine/cursor.py:1152\u001b[0m, in \u001b[0;36mCursorFetchStrategy.fetchall\u001b[0;34m(self, result, dbapi_cursor)\u001b[0m\n\u001b[1;32m   1151\u001b[0m \u001b[38;5;28;01mtry\u001b[39;00m:\n\u001b[0;32m-> 1152\u001b[0m     rows \u001b[38;5;241m=\u001b[39m \u001b[43mdbapi_cursor\u001b[49m\u001b[38;5;241;43m.\u001b[39;49m\u001b[43mfetchall\u001b[49m\u001b[43m(\u001b[49m\u001b[43m)\u001b[49m\n\u001b[1;32m   1153\u001b[0m     result\u001b[38;5;241m.\u001b[39m_soft_close()\n",
      "\u001b[0;31mInvalidInputException\u001b[0m: Invalid Input Error: Malformed JSON at byte 1 of input: unexpected character.  Input: {'family': Muller251, 'given': [Rueben647, Antw...",
      "\nThe above exception was the direct cause of the following exception:\n",
      "\u001b[0;31mProgrammingError\u001b[0m                          Traceback (most recent call last)",
      "Cell \u001b[0;32mIn[15], line 6\u001b[0m\n\u001b[1;32m      3\u001b[0m session \u001b[38;5;241m=\u001b[39m Session(bind\u001b[38;5;241m=\u001b[39meng)\n\u001b[1;32m      5\u001b[0m q \u001b[38;5;241m=\u001b[39m select(Patient\u001b[38;5;241m.\u001b[39mname[\u001b[38;5;241m1\u001b[39m][\u001b[38;5;124m'\u001b[39m\u001b[38;5;124mfamily\u001b[39m\u001b[38;5;124m'\u001b[39m])\n\u001b[0;32m----> 6\u001b[0m \u001b[43msession\u001b[49m\u001b[38;5;241;43m.\u001b[39;49m\u001b[43mexecute\u001b[49m\u001b[43m(\u001b[49m\u001b[43mq\u001b[49m\u001b[43m)\u001b[49m\u001b[38;5;241;43m.\u001b[39;49m\u001b[43mall\u001b[49m\u001b[43m(\u001b[49m\u001b[43m)\u001b[49m\n\u001b[1;32m      7\u001b[0m \u001b[38;5;28mprint\u001b[39m(q)\n",
      "File \u001b[0;32m~/.local/share/virtualenvs/sql-on-fhir-py-yYH1zTIG/lib/python3.11/site-packages/sqlalchemy/engine/result.py:1360\u001b[0m, in \u001b[0;36mResult.all\u001b[0;34m(self)\u001b[0m\n\u001b[1;32m   1348\u001b[0m \u001b[38;5;28;01mdef\u001b[39;00m \u001b[38;5;21mall\u001b[39m(\u001b[38;5;28mself\u001b[39m) \u001b[38;5;241m-\u001b[39m\u001b[38;5;241m>\u001b[39m Sequence[Row[_TP]]:\n\u001b[1;32m   1349\u001b[0m \u001b[38;5;250m    \u001b[39m\u001b[38;5;124;03m\"\"\"Return all rows in a list.\u001b[39;00m\n\u001b[1;32m   1350\u001b[0m \n\u001b[1;32m   1351\u001b[0m \u001b[38;5;124;03m    Closes the result set after invocation.   Subsequent invocations\u001b[39;00m\n\u001b[0;32m   (...)\u001b[0m\n\u001b[1;32m   1357\u001b[0m \n\u001b[1;32m   1358\u001b[0m \u001b[38;5;124;03m    \"\"\"\u001b[39;00m\n\u001b[0;32m-> 1360\u001b[0m     \u001b[38;5;28;01mreturn\u001b[39;00m \u001b[38;5;28;43mself\u001b[39;49m\u001b[38;5;241;43m.\u001b[39;49m\u001b[43m_allrows\u001b[49m\u001b[43m(\u001b[49m\u001b[43m)\u001b[49m\n",
      "File \u001b[0;32m~/.local/share/virtualenvs/sql-on-fhir-py-yYH1zTIG/lib/python3.11/site-packages/sqlalchemy/engine/result.py:529\u001b[0m, in \u001b[0;36mResultInternal._allrows\u001b[0;34m(self)\u001b[0m\n\u001b[1;32m    525\u001b[0m post_creational_filter \u001b[38;5;241m=\u001b[39m \u001b[38;5;28mself\u001b[39m\u001b[38;5;241m.\u001b[39m_post_creational_filter\n\u001b[1;32m    527\u001b[0m make_row \u001b[38;5;241m=\u001b[39m \u001b[38;5;28mself\u001b[39m\u001b[38;5;241m.\u001b[39m_row_getter\n\u001b[0;32m--> 529\u001b[0m rows \u001b[38;5;241m=\u001b[39m \u001b[38;5;28;43mself\u001b[39;49m\u001b[38;5;241;43m.\u001b[39;49m\u001b[43m_fetchall_impl\u001b[49m\u001b[43m(\u001b[49m\u001b[43m)\u001b[49m\n\u001b[1;32m    530\u001b[0m made_rows: List[_InterimRowType[_R]]\n\u001b[1;32m    531\u001b[0m \u001b[38;5;28;01mif\u001b[39;00m make_row:\n",
      "File \u001b[0;32m~/.local/share/virtualenvs/sql-on-fhir-py-yYH1zTIG/lib/python3.11/site-packages/sqlalchemy/engine/result.py:2263\u001b[0m, in \u001b[0;36mIteratorResult._fetchall_impl\u001b[0;34m(self)\u001b[0m\n\u001b[1;32m   2261\u001b[0m     \u001b[38;5;28mself\u001b[39m\u001b[38;5;241m.\u001b[39m_raise_hard_closed()\n\u001b[1;32m   2262\u001b[0m \u001b[38;5;28;01mtry\u001b[39;00m:\n\u001b[0;32m-> 2263\u001b[0m     \u001b[38;5;28;01mreturn\u001b[39;00m \u001b[38;5;28;43mlist\u001b[39;49m\u001b[43m(\u001b[49m\u001b[38;5;28;43mself\u001b[39;49m\u001b[38;5;241;43m.\u001b[39;49m\u001b[43miterator\u001b[49m\u001b[43m)\u001b[49m\n\u001b[1;32m   2264\u001b[0m \u001b[38;5;28;01mfinally\u001b[39;00m:\n\u001b[1;32m   2265\u001b[0m     \u001b[38;5;28mself\u001b[39m\u001b[38;5;241m.\u001b[39m_soft_close()\n",
      "File \u001b[0;32m~/.local/share/virtualenvs/sql-on-fhir-py-yYH1zTIG/lib/python3.11/site-packages/sqlalchemy/orm/loading.py:191\u001b[0m, in \u001b[0;36minstances.<locals>.chunks\u001b[0;34m(size)\u001b[0m\n\u001b[1;32m    189\u001b[0m         \u001b[38;5;28;01mbreak\u001b[39;00m\n\u001b[1;32m    190\u001b[0m \u001b[38;5;28;01melse\u001b[39;00m:\n\u001b[0;32m--> 191\u001b[0m     fetch \u001b[38;5;241m=\u001b[39m \u001b[43mcursor\u001b[49m\u001b[38;5;241;43m.\u001b[39;49m\u001b[43m_raw_all_rows\u001b[49m\u001b[43m(\u001b[49m\u001b[43m)\u001b[49m\n\u001b[1;32m    193\u001b[0m \u001b[38;5;28;01mif\u001b[39;00m single_entity:\n\u001b[1;32m    194\u001b[0m     proc \u001b[38;5;241m=\u001b[39m process[\u001b[38;5;241m0\u001b[39m]\n",
      "File \u001b[0;32m~/.local/share/virtualenvs/sql-on-fhir-py-yYH1zTIG/lib/python3.11/site-packages/sqlalchemy/engine/result.py:520\u001b[0m, in \u001b[0;36mResultInternal._raw_all_rows\u001b[0;34m(self)\u001b[0m\n\u001b[1;32m    518\u001b[0m make_row \u001b[38;5;241m=\u001b[39m \u001b[38;5;28mself\u001b[39m\u001b[38;5;241m.\u001b[39m_row_getter\n\u001b[1;32m    519\u001b[0m \u001b[38;5;28;01massert\u001b[39;00m make_row \u001b[38;5;129;01mis\u001b[39;00m \u001b[38;5;129;01mnot\u001b[39;00m \u001b[38;5;28;01mNone\u001b[39;00m\n\u001b[0;32m--> 520\u001b[0m rows \u001b[38;5;241m=\u001b[39m \u001b[38;5;28;43mself\u001b[39;49m\u001b[38;5;241;43m.\u001b[39;49m\u001b[43m_fetchall_impl\u001b[49m\u001b[43m(\u001b[49m\u001b[43m)\u001b[49m\n\u001b[1;32m    521\u001b[0m \u001b[38;5;28;01mreturn\u001b[39;00m [make_row(row) \u001b[38;5;28;01mfor\u001b[39;00m row \u001b[38;5;129;01min\u001b[39;00m rows]\n",
      "File \u001b[0;32m~/.local/share/virtualenvs/sql-on-fhir-py-yYH1zTIG/lib/python3.11/site-packages/sqlalchemy/engine/cursor.py:2104\u001b[0m, in \u001b[0;36mCursorResult._fetchall_impl\u001b[0;34m(self)\u001b[0m\n\u001b[1;32m   2103\u001b[0m \u001b[38;5;28;01mdef\u001b[39;00m \u001b[38;5;21m_fetchall_impl\u001b[39m(\u001b[38;5;28mself\u001b[39m):\n\u001b[0;32m-> 2104\u001b[0m     \u001b[38;5;28;01mreturn\u001b[39;00m \u001b[38;5;28;43mself\u001b[39;49m\u001b[38;5;241;43m.\u001b[39;49m\u001b[43mcursor_strategy\u001b[49m\u001b[38;5;241;43m.\u001b[39;49m\u001b[43mfetchall\u001b[49m\u001b[43m(\u001b[49m\u001b[38;5;28;43mself\u001b[39;49m\u001b[43m,\u001b[49m\u001b[43m \u001b[49m\u001b[38;5;28;43mself\u001b[39;49m\u001b[38;5;241;43m.\u001b[39;49m\u001b[43mcursor\u001b[49m\u001b[43m)\u001b[49m\n",
      "File \u001b[0;32m~/.local/share/virtualenvs/sql-on-fhir-py-yYH1zTIG/lib/python3.11/site-packages/sqlalchemy/engine/cursor.py:1156\u001b[0m, in \u001b[0;36mCursorFetchStrategy.fetchall\u001b[0;34m(self, result, dbapi_cursor)\u001b[0m\n\u001b[1;32m   1154\u001b[0m     \u001b[38;5;28;01mreturn\u001b[39;00m rows\n\u001b[1;32m   1155\u001b[0m \u001b[38;5;28;01mexcept\u001b[39;00m \u001b[38;5;167;01mBaseException\u001b[39;00m \u001b[38;5;28;01mas\u001b[39;00m e:\n\u001b[0;32m-> 1156\u001b[0m     \u001b[38;5;28;43mself\u001b[39;49m\u001b[38;5;241;43m.\u001b[39;49m\u001b[43mhandle_exception\u001b[49m\u001b[43m(\u001b[49m\u001b[43mresult\u001b[49m\u001b[43m,\u001b[49m\u001b[43m \u001b[49m\u001b[43mdbapi_cursor\u001b[49m\u001b[43m,\u001b[49m\u001b[43m \u001b[49m\u001b[43me\u001b[49m\u001b[43m)\u001b[49m\n",
      "File \u001b[0;32m~/.local/share/virtualenvs/sql-on-fhir-py-yYH1zTIG/lib/python3.11/site-packages/sqlalchemy/engine/cursor.py:1097\u001b[0m, in \u001b[0;36mCursorFetchStrategy.handle_exception\u001b[0;34m(self, result, dbapi_cursor, err)\u001b[0m\n\u001b[1;32m   1091\u001b[0m \u001b[38;5;28;01mdef\u001b[39;00m \u001b[38;5;21mhandle_exception\u001b[39m(\n\u001b[1;32m   1092\u001b[0m     \u001b[38;5;28mself\u001b[39m,\n\u001b[1;32m   1093\u001b[0m     result: CursorResult[Any],\n\u001b[1;32m   1094\u001b[0m     dbapi_cursor: Optional[DBAPICursor],\n\u001b[1;32m   1095\u001b[0m     err: \u001b[38;5;167;01mBaseException\u001b[39;00m,\n\u001b[1;32m   1096\u001b[0m ) \u001b[38;5;241m-\u001b[39m\u001b[38;5;241m>\u001b[39m NoReturn:\n\u001b[0;32m-> 1097\u001b[0m     \u001b[43mresult\u001b[49m\u001b[38;5;241;43m.\u001b[39;49m\u001b[43mconnection\u001b[49m\u001b[38;5;241;43m.\u001b[39;49m\u001b[43m_handle_dbapi_exception\u001b[49m\u001b[43m(\u001b[49m\n\u001b[1;32m   1098\u001b[0m \u001b[43m        \u001b[49m\u001b[43merr\u001b[49m\u001b[43m,\u001b[49m\u001b[43m \u001b[49m\u001b[38;5;28;43;01mNone\u001b[39;49;00m\u001b[43m,\u001b[49m\u001b[43m \u001b[49m\u001b[38;5;28;43;01mNone\u001b[39;49;00m\u001b[43m,\u001b[49m\u001b[43m \u001b[49m\u001b[43mdbapi_cursor\u001b[49m\u001b[43m,\u001b[49m\u001b[43m \u001b[49m\u001b[43mresult\u001b[49m\u001b[38;5;241;43m.\u001b[39;49m\u001b[43mcontext\u001b[49m\n\u001b[1;32m   1099\u001b[0m \u001b[43m    \u001b[49m\u001b[43m)\u001b[49m\n",
      "File \u001b[0;32m~/.local/share/virtualenvs/sql-on-fhir-py-yYH1zTIG/lib/python3.11/site-packages/sqlalchemy/engine/base.py:2326\u001b[0m, in \u001b[0;36mConnection._handle_dbapi_exception\u001b[0;34m(self, e, statement, parameters, cursor, context, is_sub_exec)\u001b[0m\n\u001b[1;32m   2324\u001b[0m \u001b[38;5;28;01melif\u001b[39;00m should_wrap:\n\u001b[1;32m   2325\u001b[0m     \u001b[38;5;28;01massert\u001b[39;00m sqlalchemy_exception \u001b[38;5;129;01mis\u001b[39;00m \u001b[38;5;129;01mnot\u001b[39;00m \u001b[38;5;28;01mNone\u001b[39;00m\n\u001b[0;32m-> 2326\u001b[0m     \u001b[38;5;28;01mraise\u001b[39;00m sqlalchemy_exception\u001b[38;5;241m.\u001b[39mwith_traceback(exc_info[\u001b[38;5;241m2\u001b[39m]) \u001b[38;5;28;01mfrom\u001b[39;00m \u001b[38;5;21;01me\u001b[39;00m\n\u001b[1;32m   2327\u001b[0m \u001b[38;5;28;01melse\u001b[39;00m:\n\u001b[1;32m   2328\u001b[0m     \u001b[38;5;28;01massert\u001b[39;00m exc_info[\u001b[38;5;241m1\u001b[39m] \u001b[38;5;129;01mis\u001b[39;00m \u001b[38;5;129;01mnot\u001b[39;00m \u001b[38;5;28;01mNone\u001b[39;00m\n",
      "File \u001b[0;32m~/.local/share/virtualenvs/sql-on-fhir-py-yYH1zTIG/lib/python3.11/site-packages/sqlalchemy/engine/cursor.py:1152\u001b[0m, in \u001b[0;36mCursorFetchStrategy.fetchall\u001b[0;34m(self, result, dbapi_cursor)\u001b[0m\n\u001b[1;32m   1146\u001b[0m \u001b[38;5;28;01mdef\u001b[39;00m \u001b[38;5;21mfetchall\u001b[39m(\n\u001b[1;32m   1147\u001b[0m     \u001b[38;5;28mself\u001b[39m,\n\u001b[1;32m   1148\u001b[0m     result: CursorResult[Any],\n\u001b[1;32m   1149\u001b[0m     dbapi_cursor: DBAPICursor,\n\u001b[1;32m   1150\u001b[0m ) \u001b[38;5;241m-\u001b[39m\u001b[38;5;241m>\u001b[39m Any:\n\u001b[1;32m   1151\u001b[0m     \u001b[38;5;28;01mtry\u001b[39;00m:\n\u001b[0;32m-> 1152\u001b[0m         rows \u001b[38;5;241m=\u001b[39m \u001b[43mdbapi_cursor\u001b[49m\u001b[38;5;241;43m.\u001b[39;49m\u001b[43mfetchall\u001b[49m\u001b[43m(\u001b[49m\u001b[43m)\u001b[49m\n\u001b[1;32m   1153\u001b[0m         result\u001b[38;5;241m.\u001b[39m_soft_close()\n\u001b[1;32m   1154\u001b[0m         \u001b[38;5;28;01mreturn\u001b[39;00m rows\n",
      "\u001b[0;31mProgrammingError\u001b[0m: (duckdb.InvalidInputException) Invalid Input Error: Malformed JSON at byte 1 of input: unexpected character.  Input: {'family': Muller251, 'given': [Rueben647, Antw...\n(Background on this error at: https://sqlalche.me/e/20/f405)"
     ]
    }
   ],
   "source": [
    "from sqlalchemy import select, func\n",
    "\n",
    "session = Session(bind=eng)\n",
    "\n",
    "q = select(Patient.name[1]['family'])\n",
    "session.execute(q).all()\n",
    "print(q)"
   ]
  },
  {
   "cell_type": "code",
   "execution_count": null,
   "id": "131865d8",
   "metadata": {},
   "outputs": [],
   "source": []
  }
 ],
 "metadata": {
  "kernelspec": {
   "display_name": "Python 3 (ipykernel)",
   "language": "python",
   "name": "python3"
  },
  "language_info": {
   "codemirror_mode": {
    "name": "ipython",
    "version": 3
   },
   "file_extension": ".py",
   "mimetype": "text/x-python",
   "name": "python",
   "nbconvert_exporter": "python",
   "pygments_lexer": "ipython3",
   "version": "3.11.2"
  }
 },
 "nbformat": 4,
 "nbformat_minor": 5
}
