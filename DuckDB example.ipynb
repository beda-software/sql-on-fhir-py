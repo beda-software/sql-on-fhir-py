{
 "cells": [
  {
   "cell_type": "code",
   "execution_count": 1,
   "id": "4ada804b",
   "metadata": {},
   "outputs": [],
   "source": [
    "from sqlalchemy import create_engine\n",
    "eng = create_engine(\"duckdb:///:memory:\")"
   ]
  },
  {
   "cell_type": "code",
   "execution_count": 2,
   "id": "f4ec3df0",
   "metadata": {},
   "outputs": [],
   "source": [
    "from sqlalchemy import Column, Integer, Sequence, String, create_engine, JSON, ARRAY\n",
    "from sqlalchemy.orm import declarative_base\n",
    "from sqlalchemy.orm.session import Session\n"
   ]
  },
  {
   "cell_type": "code",
   "execution_count": 3,
   "id": "b167c6d6",
   "metadata": {},
   "outputs": [],
   "source": [
    "Base = declarative_base()\n",
    "\n",
    "\n",
    "class Patient(Base):\n",
    "    __tablename__ = \"patient\"\n",
    "    \n",
    "    id = Column(String, primary_key=True) \n",
    "    name = Column(ARRAY(JSON))\n",
    "    birthDate = Column(String) \n",
    "    gender = Column(String) \n"
   ]
  },
  {
   "cell_type": "code",
   "execution_count": 4,
   "id": "3295391f",
   "metadata": {},
   "outputs": [],
   "source": [
    "from sqlalchemy.sql import text\n",
    "with eng.connect() as con:\n",
    "    con.execute(text(\"\"\"CREATE TABLE patient AS SELECT * FROM  read_parquet('Patient.parquet/part-00000-d58f2ef8-cc43-48e1-9723-05966f96ca3f-c000.snappy.parquet')\"\"\"))\n",
    "    con.commit()"
   ]
  },
  {
   "cell_type": "code",
   "execution_count": 5,
   "id": "17689d2f",
   "metadata": {},
   "outputs": [
    {
     "name": "stdout",
     "output_type": "stream",
     "text": [
      "('Muller251', 34, 'male')\n",
      "('Champlin946', 15, 'male')\n",
      "('Stehr398', 52, 'female')\n",
      "('Ebert178', 63, 'female')\n",
      "('Carter549', 32, 'female')\n",
      "('Kuvalis369', 45, 'male')\n",
      "('Jacobs452', 60, 'female')\n",
      "('Kihn564', 57, 'female')\n",
      "('Dickens475', 12, 'female')\n",
      "('Abshire638', 38, 'male')\n"
     ]
    }
   ],
   "source": [
    "with eng.connect() as con:\n",
    "    for line in con.execute(text(\"\"\"\n",
    "select\n",
    " name[1].family as family,\n",
    " datediff('year', birthDate::date, current_date ) as age,\n",
    " gender as gender\n",
    "from patient\n",
    "limit 10\n",
    "\"\"\")):\n",
    "        print(line)"
   ]
  },
  {
   "cell_type": "code",
   "execution_count": 6,
   "id": "3136d809",
   "metadata": {},
   "outputs": [
    {
     "name": "stdout",
     "output_type": "stream",
     "text": [
      "SELECT (patient.name[:name_1])[:param_1] AS anon_1 \n",
      "FROM patient\n"
     ]
    }
   ],
   "source": [
    "from sqlalchemy import select, func\n",
    "\n",
    "session = Session(bind=eng)\n",
    "\n",
    "q = select(Patient.name[1]['family'])\n",
    "#session.execute(q).all()\n",
    "print(q)"
   ]
  },
  {
   "cell_type": "code",
   "execution_count": null,
   "id": "131865d8",
   "metadata": {},
   "outputs": [],
   "source": []
  }
 ],
 "metadata": {
  "kernelspec": {
   "display_name": "Python 3 (ipykernel)",
   "language": "python",
   "name": "python3"
  },
  "language_info": {
   "codemirror_mode": {
    "name": "ipython",
    "version": 3
   },
   "file_extension": ".py",
   "mimetype": "text/x-python",
   "name": "python",
   "nbconvert_exporter": "python",
   "pygments_lexer": "ipython3",
   "version": "3.11.2"
  }
 },
 "nbformat": 4,
 "nbformat_minor": 5
}
