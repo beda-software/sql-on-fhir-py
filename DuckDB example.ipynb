{
 "cells": [
  {
   "cell_type": "code",
   "execution_count": 1,
   "id": "45cea393",
   "metadata": {},
   "outputs": [],
   "source": [
    "import duckdb\n"
   ]
  },
  {
   "cell_type": "code",
   "execution_count": 2,
   "id": "a42f6725",
   "metadata": {},
   "outputs": [],
   "source": [
    "\n",
    "q = \"\"\"CREATE TABLE AllergyIntolerance AS SELECT * FROM  read_parquet('AllergyIntolerance.parquet/part-00000-22e1f3fb-af3a-4f8c-bf3d-b2e836512b5d-c000.snappy.parquet')\"\"\"\n",
    "duckdb.sql(q)\n"
   ]
  },
  {
   "cell_type": "code",
   "execution_count": 3,
   "id": "6645ce91",
   "metadata": {},
   "outputs": [
    {
     "name": "stdout",
     "output_type": "stream",
     "text": [
      "/Users/ilyabeda/projects/sql-on-fhir-py\n"
     ]
    }
   ],
   "source": [
    "base_path = %pwd\n",
    "print(base_path)"
   ]
  },
  {
   "cell_type": "code",
   "execution_count": 4,
   "id": "7f8d5143",
   "metadata": {},
   "outputs": [
    {
     "data": {
      "text/plain": [
       "┌───────────────┬──────────────────────┬──────────────────────┬───┬─────────┬──────────────────────┐\n",
       "│   category    │    clinicalStatus    │         code         │ … │  type   │  verificationStatus  │\n",
       "│   varchar[]   │ struct(coding stru…  │ struct(coding stru…  │   │ varchar │ struct(coding stru…  │\n",
       "├───────────────┼──────────────────────┼──────────────────────┼───┼─────────┼──────────────────────┤\n",
       "│ [environment] │ {'coding': [{'code…  │ {'coding': [{'code…  │ … │ allergy │ {'coding': [{'code…  │\n",
       "│ [environment] │ {'coding': [{'code…  │ {'coding': [{'code…  │ … │ allergy │ {'coding': [{'code…  │\n",
       "│ [environment] │ {'coding': [{'code…  │ {'coding': [{'code…  │ … │ allergy │ {'coding': [{'code…  │\n",
       "│ [environment] │ {'coding': [{'code…  │ {'coding': [{'code…  │ … │ allergy │ {'coding': [{'code…  │\n",
       "│ [environment] │ {'coding': [{'code…  │ {'coding': [{'code…  │ … │ allergy │ {'coding': [{'code…  │\n",
       "│ [medication]  │ {'coding': [{'code…  │ {'coding': [{'code…  │ … │ allergy │ {'coding': [{'code…  │\n",
       "│ [medication]  │ {'coding': [{'code…  │ {'coding': [{'code…  │ … │ allergy │ {'coding': [{'code…  │\n",
       "│ [food]        │ {'coding': [{'code…  │ {'coding': [{'code…  │ … │ allergy │ {'coding': [{'code…  │\n",
       "│ [environment] │ {'coding': [{'code…  │ {'coding': [{'code…  │ … │ allergy │ {'coding': [{'code…  │\n",
       "│ [food]        │ {'coding': [{'code…  │ {'coding': [{'code…  │ … │ allergy │ {'coding': [{'code…  │\n",
       "│   ·           │          ·           │          ·           │ · │    ·    │          ·           │\n",
       "│   ·           │          ·           │          ·           │ · │    ·    │          ·           │\n",
       "│   ·           │          ·           │          ·           │ · │    ·    │          ·           │\n",
       "│ [environment] │ {'coding': [{'code…  │ {'coding': [{'code…  │ … │ allergy │ {'coding': [{'code…  │\n",
       "│ [environment] │ {'coding': [{'code…  │ {'coding': [{'code…  │ … │ allergy │ {'coding': [{'code…  │\n",
       "│ [environment] │ {'coding': [{'code…  │ {'coding': [{'code…  │ … │ allergy │ {'coding': [{'code…  │\n",
       "│ [food]        │ {'coding': [{'code…  │ {'coding': [{'code…  │ … │ allergy │ {'coding': [{'code…  │\n",
       "│ [environment] │ {'coding': [{'code…  │ {'coding': [{'code…  │ … │ allergy │ {'coding': [{'code…  │\n",
       "│ [environment] │ {'coding': [{'code…  │ {'coding': [{'code…  │ … │ allergy │ {'coding': [{'code…  │\n",
       "│ [environment] │ {'coding': [{'code…  │ {'coding': [{'code…  │ … │ allergy │ {'coding': [{'code…  │\n",
       "│ [environment] │ {'coding': [{'code…  │ {'coding': [{'code…  │ … │ allergy │ {'coding': [{'code…  │\n",
       "│ [food]        │ {'coding': [{'code…  │ {'coding': [{'code…  │ … │ allergy │ {'coding': [{'code…  │\n",
       "│ [food]        │ {'coding': [{'code…  │ {'coding': [{'code…  │ … │ allergy │ {'coding': [{'code…  │\n",
       "├───────────────┴──────────────────────┴──────────────────────┴───┴─────────┴──────────────────────┤\n",
       "│ 894 rows (20 shown)                                                         12 columns (5 shown) │\n",
       "└──────────────────────────────────────────────────────────────────────────────────────────────────┘"
      ]
     },
     "execution_count": 4,
     "metadata": {},
     "output_type": "execute_result"
    }
   ],
   "source": [
    "q = \"\"\"select * from AllergyIntolerance\"\"\"\n",
    "duckdb.sql(q)"
   ]
  },
  {
   "cell_type": "code",
   "execution_count": 5,
   "id": "6490f1cc",
   "metadata": {},
   "outputs": [],
   "source": [
    "q = \"\"\"CREATE TABLE patient AS SELECT * FROM  read_parquet('Patient.parquet/part-00000-d58f2ef8-cc43-48e1-9723-05966f96ca3f-c000.snappy.parquet')\"\"\"\n",
    "duckdb.sql(q)"
   ]
  },
  {
   "cell_type": "code",
   "execution_count": 6,
   "id": "ecce2ebe",
   "metadata": {},
   "outputs": [
    {
     "name": "stdout",
     "output_type": "stream",
     "text": [
      "┌──────────────────────┬──────────────────────────────────────────────────────────┬───────────────────┬────────────────┐\n",
      "│      patient_id      │                       patient_name                       │ patient_birthDate │ patient_gender │\n",
      "│       varchar        │ struct(\"family\" varchar, given varchar[], prefix varch…  │      varchar      │    varchar     │\n",
      "├──────────────────────┼──────────────────────────────────────────────────────────┼───────────────────┼────────────────┤\n",
      "│ b0e2bc9c-11c2-3ccf…  │ [{'family': Muller251, 'given': [Rueben647, Antwan357]…  │ 1989-12-02        │ male           │\n",
      "│ 75369cf4-ab69-a690…  │ [{'family': Champlin946, 'given': [Donny470, Gregorio3…  │ 2008-10-08        │ male           │\n",
      "│ 513822be-18f9-c962…  │ [{'family': Stehr398, 'given': [Dannielle300, Lu473], …  │ 1971-05-30        │ female         │\n",
      "│ c0990319-e653-935e…  │ [{'family': Ebert178, 'given': [Veronika907, Josette39…  │ 1960-09-01        │ female         │\n",
      "│ 913d8550-a4fc-da48…  │ [{'family': Carter549, 'given': [Martin117, Kathleen51…  │ 1991-02-05        │ female         │\n",
      "│ 35056ef0-f6a3-ae01…  │ [{'family': Kuvalis369, 'given': [Val761, Justin359], …  │ 1978-01-23        │ male           │\n",
      "│ 5b0287aa-8886-2632…  │ [{'family': Jacobs452, 'given': [Elin732, Lavone763], …  │ 1963-05-27        │ female         │\n",
      "│ 11d09101-3d3d-6c86…  │ [{'family': Kihn564, 'given': [Raelene218, Tiesha180],…  │ 1966-04-22        │ female         │\n",
      "│ 764c5b63-a23d-2754…  │ [{'family': Dickens475, 'given': [Ona426, Courtney281]…  │ 2011-08-08        │ female         │\n",
      "│ bc131c01-21a7-905b…  │ [{'family': Abshire638, 'given': [Hunter736, Mel236], …  │ 1985-10-24        │ male           │\n",
      "│          ·           │                            ·                             │     ·             │  ·             │\n",
      "│          ·           │                            ·                             │     ·             │  ·             │\n",
      "│          ·           │                            ·                             │     ·             │  ·             │\n",
      "│ 9a00c62c-ab11-8149…  │ [{'family': Hammes673, 'given': [Daniella68, Carisa395…  │ 2006-05-26        │ female         │\n",
      "│ d94a370c-9617-0bb4…  │ [{'family': Wiegand701, 'given': [Lakiesha286, Sixta31…  │ 1998-11-03        │ female         │\n",
      "│ 2e92937e-bd54-7d59…  │ [{'family': Lind531, 'given': [Brenton674, Steve819], …  │ 1960-10-24        │ male           │\n",
      "│ c3be0202-46c2-376b…  │ [{'family': Soliz209, 'given': [Graciela518], 'prefix'…  │ 1961-10-09        │ female         │\n",
      "│ 8593f3b5-bd2c-d3af…  │ [{'family': Feil794, 'given': [Senaida415, Luba688], '…  │ 1988-06-16        │ female         │\n",
      "│ 50799bc8-55f5-aafe…  │ [{'family': Hirthe744, 'given': [Porter490], 'prefix':…  │ 2000-06-05        │ male           │\n",
      "│ 2d71dab4-b3b9-32ef…  │ [{'family': Schuppe920, 'given': [Newton741, Emmanuel9…  │ 1963-07-25        │ male           │\n",
      "│ c87bfd65-2cee-ac1f…  │ [{'family': Murazik203, 'given': [Lizabeth515, Georgen…  │ 1963-03-19        │ female         │\n",
      "│ 29a732f8-26e1-2e7d…  │ [{'family': Patiño436, 'given': [Óscar156, Alejandro91…  │ 1915-07-15        │ male           │\n",
      "│ 5a7d78c8-71da-8d6f…  │ [{'family': Goldner995, 'given': [Domingo513, Francis5…  │ 1915-09-26        │ male           │\n",
      "├──────────────────────┴──────────────────────────────────────────────────────────┴───────────────────┴────────────────┤\n",
      "│ 1118 rows (20 shown)                                                                                       4 columns │\n",
      "└──────────────────────────────────────────────────────────────────────────────────────────────────────────────────────┘\n",
      "\n"
     ]
    }
   ],
   "source": [
    "q = \"\"\"\n",
    "SELECT patient.id AS patient_id, patient.name AS patient_name, patient.\"birthDate\" AS \"patient_birthDate\", patient.gender AS patient_gender \n",
    "FROM patient\n",
    "\"\"\"\n",
    "\n",
    "duckdb.sql(q).show()"
   ]
  },
  {
   "cell_type": "code",
   "execution_count": 7,
   "id": "4ada804b",
   "metadata": {},
   "outputs": [],
   "source": [
    "from sqlalchemy import create_engine\n",
    "eng = create_engine(\"duckdb:///:memory:\")"
   ]
  },
  {
   "cell_type": "code",
   "execution_count": 8,
   "id": "f4ec3df0",
   "metadata": {},
   "outputs": [],
   "source": [
    "from sqlalchemy import Column, Integer, Sequence, String, create_engine, JSON, ARRAY\n",
    "from sqlalchemy.orm import declarative_base\n",
    "from sqlalchemy.orm.session import Session\n"
   ]
  },
  {
   "cell_type": "code",
   "execution_count": 9,
   "id": "b167c6d6",
   "metadata": {},
   "outputs": [],
   "source": [
    "Base = declarative_base()\n",
    "\n",
    "\n",
    "class Patient(Base):\n",
    "    __tablename__ = \"patient\"\n",
    "    \n",
    "    id = Column(String, primary_key=True) \n",
    "    name = Column(ARRAY(JSON))\n",
    "    birthDate = Column(String) \n",
    "    gender = Column(String) \n"
   ]
  },
  {
   "cell_type": "code",
   "execution_count": 10,
   "id": "3295391f",
   "metadata": {},
   "outputs": [],
   "source": [
    "from sqlalchemy.sql import text\n",
    "with eng.connect() as con:\n",
    "    con.execute(text(\"\"\"CREATE TABLE patient AS SELECT * FROM  read_parquet('Patient.parquet/part-00000-d58f2ef8-cc43-48e1-9723-05966f96ca3f-c000.snappy.parquet')\"\"\"))\n",
    "    con.commit()"
   ]
  },
  {
   "cell_type": "code",
   "execution_count": 15,
   "id": "17689d2f",
   "metadata": {},
   "outputs": [
    {
     "name": "stdout",
     "output_type": "stream",
     "text": [
      "('Muller251', 34, 'male')\n",
      "('Champlin946', 15, 'male')\n",
      "('Stehr398', 52, 'female')\n",
      "('Ebert178', 63, 'female')\n",
      "('Carter549', 32, 'female')\n",
      "('Kuvalis369', 45, 'male')\n",
      "('Jacobs452', 60, 'female')\n",
      "('Kihn564', 57, 'female')\n",
      "('Dickens475', 12, 'female')\n",
      "('Abshire638', 38, 'male')\n"
     ]
    }
   ],
   "source": [
    "with eng.connect() as con:\n",
    "    for line in con.execute(text(\"\"\"\n",
    "select\n",
    " name[1].family as family,\n",
    " datediff('year', birthDate::date, current_date ) as age,\n",
    " gender as gender\n",
    "from patient\n",
    "limit 10\n",
    "\"\"\")):\n",
    "        print(line)"
   ]
  },
  {
   "cell_type": "code",
   "execution_count": 53,
   "id": "3136d809",
   "metadata": {},
   "outputs": [
    {
     "name": "stdout",
     "output_type": "stream",
     "text": [
      "SELECT (patient.name[:name_1])[:param_1] AS anon_1 \n",
      "FROM patient\n"
     ]
    }
   ],
   "source": [
    "from sqlalchemy import select, func\n",
    "\n",
    "session = Session(bind=eng)\n",
    "\n",
    "q = select(Patient.name[1]['family'])\n",
    "#session.execute(q).all()\n",
    "print(q)"
   ]
  },
  {
   "cell_type": "code",
   "execution_count": null,
   "id": "131865d8",
   "metadata": {},
   "outputs": [],
   "source": []
  }
 ],
 "metadata": {
  "kernelspec": {
   "display_name": "Python 3 (ipykernel)",
   "language": "python",
   "name": "python3"
  },
  "language_info": {
   "codemirror_mode": {
    "name": "ipython",
    "version": 3
   },
   "file_extension": ".py",
   "mimetype": "text/x-python",
   "name": "python",
   "nbconvert_exporter": "python",
   "pygments_lexer": "ipython3",
   "version": "3.11.2"
  }
 },
 "nbformat": 4,
 "nbformat_minor": 5
}
